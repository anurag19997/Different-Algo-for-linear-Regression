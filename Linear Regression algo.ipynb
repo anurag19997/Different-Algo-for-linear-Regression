{
 "cells": [
  {
   "cell_type": "markdown",
   "metadata": {},
   "source": [
    "## Using Diffrent Algos for Single variable linear Regression"
   ]
  },
  {
   "cell_type": "code",
   "execution_count": 3,
   "metadata": {},
   "outputs": [],
   "source": [
    "import numpy as np \n",
    "import pandas as pd\n",
    "import matplotlib.pyplot as plt"
   ]
  },
  {
   "cell_type": "code",
   "execution_count": 4,
   "metadata": {},
   "outputs": [
    {
     "data": {
      "text/html": [
       "<div>\n",
       "<style scoped>\n",
       "    .dataframe tbody tr th:only-of-type {\n",
       "        vertical-align: middle;\n",
       "    }\n",
       "\n",
       "    .dataframe tbody tr th {\n",
       "        vertical-align: top;\n",
       "    }\n",
       "\n",
       "    .dataframe thead th {\n",
       "        text-align: right;\n",
       "    }\n",
       "</style>\n",
       "<table border=\"1\" class=\"dataframe\">\n",
       "  <thead>\n",
       "    <tr style=\"text-align: right;\">\n",
       "      <th></th>\n",
       "      <th>x</th>\n",
       "      <th>y</th>\n",
       "    </tr>\n",
       "  </thead>\n",
       "  <tbody>\n",
       "    <tr>\n",
       "      <th>0</th>\n",
       "      <td>24.0</td>\n",
       "      <td>21.549452</td>\n",
       "    </tr>\n",
       "    <tr>\n",
       "      <th>1</th>\n",
       "      <td>50.0</td>\n",
       "      <td>47.464463</td>\n",
       "    </tr>\n",
       "    <tr>\n",
       "      <th>2</th>\n",
       "      <td>15.0</td>\n",
       "      <td>17.218656</td>\n",
       "    </tr>\n",
       "    <tr>\n",
       "      <th>3</th>\n",
       "      <td>38.0</td>\n",
       "      <td>36.586398</td>\n",
       "    </tr>\n",
       "    <tr>\n",
       "      <th>4</th>\n",
       "      <td>87.0</td>\n",
       "      <td>87.288984</td>\n",
       "    </tr>\n",
       "  </tbody>\n",
       "</table>\n",
       "</div>"
      ],
      "text/plain": [
       "      x          y\n",
       "0  24.0  21.549452\n",
       "1  50.0  47.464463\n",
       "2  15.0  17.218656\n",
       "3  38.0  36.586398\n",
       "4  87.0  87.288984"
      ]
     },
     "execution_count": 4,
     "metadata": {},
     "output_type": "execute_result"
    }
   ],
   "source": [
    "df = pd.read_csv('train.csv')\n",
    "df.head()"
   ]
  },
  {
   "cell_type": "code",
   "execution_count": 5,
   "metadata": {},
   "outputs": [
    {
     "data": {
      "text/plain": [
       "(700, 2)"
      ]
     },
     "execution_count": 5,
     "metadata": {},
     "output_type": "execute_result"
    }
   ],
   "source": [
    "df.shape"
   ]
  },
  {
   "cell_type": "code",
   "execution_count": 21,
   "metadata": {},
   "outputs": [
    {
     "data": {
      "text/plain": [
       "(699, 2)"
      ]
     },
     "execution_count": 21,
     "metadata": {},
     "output_type": "execute_result"
    }
   ],
   "source": [
    "df.dropna(how='any', inplace=True)\n",
    "df.shape"
   ]
  },
  {
   "cell_type": "code",
   "execution_count": 23,
   "metadata": {},
   "outputs": [
    {
     "data": {
      "text/plain": [
       "False"
      ]
     },
     "execution_count": 23,
     "metadata": {},
     "output_type": "execute_result"
    }
   ],
   "source": [
    "df.y.isnull().any()"
   ]
  },
  {
   "cell_type": "code",
   "execution_count": 24,
   "metadata": {},
   "outputs": [
    {
     "data": {
      "text/plain": [
       "(699,)"
      ]
     },
     "execution_count": 24,
     "metadata": {},
     "output_type": "execute_result"
    }
   ],
   "source": [
    "X, Y = df['x'], df['y']\n",
    "X.shape"
   ]
  },
  {
   "cell_type": "code",
   "execution_count": 25,
   "metadata": {},
   "outputs": [
    {
     "name": "stdout",
     "output_type": "stream",
     "text": [
      "(524,)\n",
      "(175,)\n"
     ]
    }
   ],
   "source": [
    "from sklearn.model_selection import train_test_split\n",
    "x_train, x_test, y_train, y_test = train_test_split(X, Y)\n",
    "print(x_train.shape)\n",
    "print(x_test.shape)"
   ]
  },
  {
   "cell_type": "code",
   "execution_count": 26,
   "metadata": {},
   "outputs": [
    {
     "data": {
      "text/plain": [
       "numpy.ndarray"
      ]
     },
     "execution_count": 26,
     "metadata": {},
     "output_type": "execute_result"
    }
   ],
   "source": [
    "x_train = np.array(x_train).reshape(-1, 1)\n",
    "x_test = np.array(x_test).reshape(-1, 1)\n",
    "y_train = np.array(y_train).reshape(-1, 1)\n",
    "y_test = np.array(y_test).reshape(-1, 1)\n",
    "type(x_train)"
   ]
  },
  {
   "cell_type": "code",
   "execution_count": 27,
   "metadata": {},
   "outputs": [],
   "source": [
    "from sklearn.linear_model import LinearRegression\n",
    "algo = LinearRegression()\n",
    "algo.fit(x_train, y_train)\n",
    "y_predict = algo.predict(y_test)"
   ]
  },
  {
   "cell_type": "code",
   "execution_count": 28,
   "metadata": {},
   "outputs": [
    {
     "data": {
      "text/plain": [
       "<matplotlib.legend.Legend at 0x1b7b6dc79b0>"
      ]
     },
     "execution_count": 28,
     "metadata": {},
     "output_type": "execute_result"
    },
    {
     "data": {
      "image/png": "[encoded data removed]",
      "text/plain": [
       "<Figure size 432x288 with 1 Axes>"
      ]
     },
     "metadata": {
      "needs_background": "light"
     },
     "output_type": "display_data"
    }
   ],
   "source": [
    "plt.scatter(x_test, y_predict, color = 'black', marker = '+', label = 'preditcted', s = 100)\n",
    "plt.scatter(x_test, y_test, color = 'red', alpha = 0.5)\n",
    "plt.legend()"
   ]
  },
  {
   "cell_type": "code",
   "execution_count": 29,
   "metadata": {},
   "outputs": [
    {
     "name": "stdout",
     "output_type": "stream",
     "text": [
      "100.0\n",
      "[-0.17021592]\n",
      "[[1.0015884]]\n"
     ]
    }
   ],
   "source": [
    "print(algo.score(y_test, y_predict) * 100)\n",
    "print(algo.intercept_)\n",
    "print(algo.coef_)"
   ]
  },
  {
   "cell_type": "markdown",
   "metadata": {},
   "source": [
    "### Creating gradient descent algo"
   ]
  },
  {
   "cell_type": "code",
   "execution_count": 30,
   "metadata": {},
   "outputs": [],
   "source": [
    "def linear_reg_fit(x_train, y_train):\n",
    "    a0 = 0\n",
    "    a1 = 0\n",
    "    alpha = 0.00001\n",
    "    epochs = 0\n",
    "    while epochs <= 100:\n",
    "        y_hat = (a0 * x_train) + a1 ## y = mx + c\n",
    "        error = (y_hat - y_train)\n",
    "        mean_sqr_err = np.sum(error ** 2)\n",
    "        mean_sqr_err = mean_sqr_err / y_train.shape[0]\n",
    "        if(abs(mean_sqr_err) <= 0.01):\n",
    "            break;\n",
    "        a1 = a1 - 0.00001 * 2 * np.sum(error)/y_train.shape[0]\n",
    "        a0 = a0 - 0.00001 * 2 * np.sum(error * x_train)/y_train.shape[0]\n",
    "        epochs += 1\n",
    "#         if epochs % 10 == 0:\n",
    "#             print(mean_sqr_err)\n",
    "    return a0, a1    "
   ]
  },
  {
   "cell_type": "code",
   "execution_count": 31,
   "metadata": {},
   "outputs": [
    {
     "name": "stdout",
     "output_type": "stream",
     "text": [
      "0.9978069839765416\n",
      "0.014895827101277738\n"
     ]
    }
   ],
   "source": [
    "m, c = linear_reg_fit(x_train, y_train)\n",
    "print(m)\n",
    "print(c)\n",
    "y_predict = m * x_test + c"
   ]
  },
  {
   "cell_type": "code",
   "execution_count": 32,
   "metadata": {},
   "outputs": [
    {
     "name": "stdout",
     "output_type": "stream",
     "text": [
      "99.02228382758214\n"
     ]
    },
    {
     "data": {
      "image/png": "[encoded data removed]",
      "text/plain": [
       "<Figure size 432x288 with 1 Axes>"
      ]
     },
     "metadata": {
      "needs_background": "light"
     },
     "output_type": "display_data"
    }
   ],
   "source": [
    "# plt.scatter(x_test, y_predict, color = 'black', marker = '+', label = 'preditcted', s = 100)\n",
    "plt.plot(x_test, y_predict, color = 'black', label = 'preditcted',)\n",
    "plt.scatter(x_test, y_test, color = 'red', alpha = 0.5)\n",
    "plt.legend()\n",
    "print(algo.score(y_test, y_predict) * 100)"
   ]
  },
  {
   "cell_type": "markdown",
   "metadata": {},
   "source": [
    "### Doing cnml way"
   ]
  },
  {
   "cell_type": "code",
   "execution_count": 33,
   "metadata": {},
   "outputs": [
    {
     "name": "stdout",
     "output_type": "stream",
     "text": [
      "-0.024799990362569607\n",
      "0.9986587235446954\n"
     ]
    }
   ],
   "source": [
    "num = y_train.mean() * x_train.mean() + (np.mean(x_train * y_train))\n",
    "den = np.mean(x_train * x_train) + (x_train.mean() ** 2)\n",
    "m = num/den\n",
    "c = ((m * np.mean(x_train * x_train) - np.mean(x_train * y_train))/ x_train.mean()) \n",
    "print(c)\n",
    "print(m)\n",
    "y_predict2 = m * x_test + c"
   ]
  },
  {
   "cell_type": "markdown",
   "metadata": {},
   "source": [
    "### Doing ap Statistics way"
   ]
  },
  {
   "cell_type": "code",
   "execution_count": 34,
   "metadata": {},
   "outputs": [
    {
     "name": "stdout",
     "output_type": "stream",
     "text": [
      "m1 0.991134746155526\n",
      "c1 0.3486563606200903\n",
      "m2 1.0015883996474846\n",
      "c2 0.9892432676323282\n"
     ]
    }
   ],
   "source": [
    "import math \n",
    "x = x_train\n",
    "y = y_train\n",
    "er_x = x - x.mean()\n",
    "er_y = y - y.mean()\n",
    "n = x.shape[0]\n",
    "sx = math.sqrt(np.sum(er_x * er_x)/n)\n",
    "sy = math.sqrt(np.sum(er_y * er_y)/n)\n",
    "zx = er_x/sx\n",
    "zy = er_y/sy\n",
    "r = np.sum(zx * zy)/ (n-1)\n",
    "m = r * sx/sy\n",
    "c = y.mean() - (m * x.mean())\n",
    "print('m1 ' + str(m))\n",
    "print('c1 ' + str(c))\n",
    "y_predict3 = m * x_test + c\n",
    "cov_xy = np.sum(er_x * er_y)/n\n",
    "## This is derivatived way\n",
    "m2 = cov_xy/ (sx**2)\n",
    "print('m2 ' + str(m2))\n",
    "c2 = cov_xy/ (sy**2)\n",
    "print('c2 ' + str(c2))\n",
    "y_predict4 = m2 * x_test + c2"
   ]
  },
  {
   "cell_type": "code",
   "execution_count": 36,
   "metadata": {},
   "outputs": [
    {
     "name": "stdout",
     "output_type": "stream",
     "text": [
      "99.02228382758214\n"
     ]
    }
   ],
   "source": [
    "%matplotlib qt\n",
    "# plt.scatter(x_test, y_predict, color = 'black', marker = '+', label = 'preditcted', s = 100)\n",
    "plt.plot(x_test, y_predict, color = 'black', label = 'gradient', linewidth = 2)\n",
    "plt.plot(x_test, y_predict2, color = 'blue', label = 'cnml',)\n",
    "plt.plot(x_test, y_predict3, color = 'green', label = 'apstats',)\n",
    "plt.plot(x_test, y_predict4, color = 'yellow', label = 'derived',)\n",
    "plt.scatter(x_test, y_test, color = 'red', alpha = 0.5, label = 'orignal')\n",
    "plt.legend()\n",
    "print(algo.score(y_test, y_predict) * 100)"
   ]
  },
  {
   "cell_type": "markdown",
   "metadata": {},
   "source": [
    "![title](fig.png)\n"
   ]
  },
  {
   "cell_type": "code",
   "execution_count": 37,
   "metadata": {},
   "outputs": [
    {
     "name": "stdout",
     "output_type": "stream",
     "text": [
      "gradient: 8.017951470549423\n",
      "cnml: 8.018111048606553\n",
      "apstats: 8.054985942414993\n",
      "derived: 9.222150955191047\n"
     ]
    }
   ],
   "source": [
    "from sklearn.metrics import mean_squared_error\n",
    "print(\"gradient: \" + str(mean_squared_error(y_test, y_predict)))\n",
    "print(\"cnml: \" + str(mean_squared_error(y_test, y_predict2)))\n",
    "print(\"apstats: \" + str(mean_squared_error(y_test, y_predict3)))\n",
    "print(\"derived: \" + str(mean_squared_error(y_test, y_predict4)))"
   ]
  }
 ],
 "metadata": {
  "kernelspec": {
   "display_name": "Python 3",
   "language": "python",
   "name": "python3"
  },
  "language_info": {
   "codemirror_mode": {
    "name": "ipython",
    "version": 3
   },
   "file_extension": ".py",
   "mimetype": "text/x-python",
   "name": "python",
   "nbconvert_exporter": "python",
   "pygments_lexer": "ipython3",
   "version": "3.7.0"
  }
 },
 "nbformat": 4,
 "nbformat_minor": 2
}
